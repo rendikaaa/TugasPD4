{
 "cells": [
  {
   "cell_type": "markdown",
   "metadata": {},
   "source": [
    "<h1>Praktikum Variabel & Tipe Data</h1>\n",
    "\n",
    "<h3>Soal 1</h3>\n",
    "Kiki belanja ke alf$$a M$a$r$t membeli 3 hepitos, 2 silperkuin, telor 2kg, beras 5kg, isi ulang akua galon seharga Rp 13.000. Harga hepitos yaitu Rp 15.000, telor Rp 13.000/kg, silperkuin Rp 21.000 beras kemasan 2.5kg seharga Rp 20.000. Toko tersebut memberikan discount 5%, ketika customer membeli makanan lebih dari 3 jenis. Berapakah total bayar belanjaan dari Kiki?\n"
   ]
  },
  {
   "cell_type": "markdown",
   "metadata": {},
   "source": [
    "<h1>Analyze Here</h1>\n",
    "....."
   ]
  },
  {
   "cell_type": "code",
   "execution_count": 1,
   "metadata": {},
   "outputs": [
    {
     "name": "stdout",
     "output_type": "stream",
     "text": [
      "total belanja : 157700.0\n"
     ]
    }
   ],
   "source": [
    "#Code here....\n",
    "#deklarasi variabel\n",
    "hepitos = 15000\n",
    "telor = 13000\n",
    "silperkuin = 21000\n",
    "beras = 20000\n",
    "isiulang_galon = 13000\n",
    "\n",
    "#perhitungan total belanja sebelum diskon\n",
    "belanja=hepitos*3+silperkuin*2+telor*2+beras*2+isiulang_galon\n",
    "#diskon 5% dari total belanja \n",
    "diskon=belanja*0.05\n",
    "#total belanja kiki setelah dikurangi diskon\n",
    "total_belanja = belanja - diskon\n",
    "#output\n",
    "print(f\"total belanja : {total_belanja}\")  "
   ]
  },
  {
   "cell_type": "markdown",
   "metadata": {},
   "source": [
    "<h3>Soal 2</h3>\n",
    "Roni menabung pada bulan agustus yaitu setiap tanggal ganjil sejumlah Rp 50.000, setiap tanggal genap sejumlah RP 10.000 dan setiap tanggal kelipatan 5 sejumlah Rp 5.000, Berapakah total tabungan Roni diakhir bulan?"
   ]
  },
  {
   "cell_type": "markdown",
   "metadata": {},
   "source": [
    "<h1>Analyze Here</h1>\n",
    "....."
   ]
  },
  {
   "cell_type": "code",
   "execution_count": 2,
   "metadata": {},
   "outputs": [
    {
     "name": "stdout",
     "output_type": "stream",
     "text": [
      "total tabung : 800000\n"
     ]
    }
   ],
   "source": [
    "#Code here.....\n",
    "#deklarasi variabel\n",
    "total_hari = 31\n",
    "total_tabung = 0\n",
    "\n",
    "tanggal = 1\n",
    "#kondisi perulangan dan percabangan\n",
    "while(tanggal <= total_hari):\n",
    "    if(tanggal % 5 == 0):\n",
    "        total_tabung += 5000\n",
    "    elif(tanggal % 2 != 0):\n",
    "        total_tabung += 50000\n",
    "    else:\n",
    "        total_tabung += 10000\n",
    "        \n",
    "    tanggal += 1\n",
    "#output   \n",
    "print(f\"total tabung : {total_tabung}\")"
   ]
  },
  {
   "cell_type": "markdown",
   "metadata": {},
   "source": [
    "<h3>Soal 3</h3>\n",
    "Saat hari raya, Deni ingin menukarkan uang sejumlah Rp 5.000.000 ke pecahan 20rb, 10rb, 5rb, 2rb. berapa jumlahnya yang didapatkan Deni jika 20rb maksimal 100, 10rb maksimal 50.Jika :\n",
    "<ol>\n",
    "    <li>3(a)Semua pecahan harus ada</li>\n",
    "    <li>3(b)Hanya pecahan 20rb, 10rb dan 5rb</li>\n",
    "    <li>3(c)Hanya pecahan 20rb, 10rb dan 2rb</li>\n",
    "</ol>"
   ]
  },
  {
   "cell_type": "markdown",
   "metadata": {},
   "source": [
    "<h1>Analyze Here</h1>\n",
    "....."
   ]
  },
  {
   "cell_type": "code",
   "execution_count": 3,
   "metadata": {},
   "outputs": [
    {
     "name": "stdout",
     "output_type": "stream",
     "text": [
      "a. pecahan uang 5000000 untuk poin a adalah\n",
      "   1. pecahan 20000 berjumlah 100\n",
      "   2. pecahan 10000 berjumlah 50\n",
      "   3. pecahan 5000 berjumlah 250.0\n",
      "   4. pecahan 2000 berjumlah 625.0\n",
      "b. pecahan uang 5000000 untuk poin b adalah\n",
      "   1. pecahan 20000 berjumlah 100\n",
      "   2. pecahan 10000 berjumlah 50\n",
      "   3. pecahan 5000 berjumlah 500.0\n",
      "c. pecahan uang 5000000 untuk poin c adalah\n",
      "   1. pecahan 20000 berjumlah 100\n",
      "   2. pecahan 10000 berjumlah 50\n",
      "   3. pecahan 2000 berjumlah 1250.0\n"
     ]
    }
   ],
   "source": [
    "#Code here....\n",
    "#jumlah uang yang dimiliki deni\n",
    "uang = 5000000\n",
    "\n",
    "#list pecahan uang\n",
    "pecahan = [20000,10000,5000,2000]\n",
    "\n",
    "#maksimal pecahan 20k\n",
    "maksimal_pecahan20k = 100\n",
    "\n",
    "#maksimal pecahan 10k\n",
    "maksimal_pecahan10k = 50\n",
    "\n",
    "#sisa uang setelah di kurangi 100 pecahan 20k dan 50 pecahan 10k\n",
    "sisa_uang = uang - (pecahan[0]*100+pecahan[1]*50)\n",
    "\n",
    "#output point a\n",
    "print(f\"a. pecahan uang {uang} untuk poin a adalah\")\n",
    "print(f\"   1. pecahan {pecahan[0]} berjumlah {maksimal_pecahan20k}\")\n",
    "print(f\"   2. pecahan {pecahan[1]} berjumlah {maksimal_pecahan10k}\")\n",
    "print(f\"   3. pecahan {pecahan[2]} berjumlah {(sisa_uang/2)/pecahan[2]}\")\n",
    "print(f\"   4. pecahan {pecahan[3]} berjumlah {(sisa_uang/2)/pecahan[3]}\")\n",
    "\n",
    "#output point b\n",
    "print(f\"b. pecahan uang {uang} untuk poin b adalah\")\n",
    "print(f\"   1. pecahan {pecahan[0]} berjumlah {maksimal_pecahan20k}\")\n",
    "print(f\"   2. pecahan {pecahan[1]} berjumlah {maksimal_pecahan10k}\")\n",
    "print(f\"   3. pecahan {pecahan[2]} berjumlah {sisa_uang/pecahan[2]}\")\n",
    "\n",
    "#output point c\n",
    "print(f\"c. pecahan uang {uang} untuk poin c adalah\")\n",
    "print(f\"   1. pecahan {pecahan[0]} berjumlah {maksimal_pecahan20k}\")\n",
    "print(f\"   2. pecahan {pecahan[1]} berjumlah {maksimal_pecahan10k}\")\n",
    "print(f\"   3. pecahan {pecahan[3]} berjumlah {sisa_uang/pecahan[3]}\")"
   ]
  },
  {
   "cell_type": "markdown",
   "metadata": {},
   "source": [
    "<h3>Soal 4</h3>\n",
    "Berapakah hasil dari (10/23-6+4-(20//3%2)) ?\n",
    "Lakukan analisa perhitungan dari hasil tersebut!\n",
    "Berdasarkan hasil tersebut urutkan operator yang dikerjakan!"
   ]
  },
  {
   "cell_type": "markdown",
   "metadata": {},
   "source": [
    "<h1>Analyze Here</h1>\n",
    "....."
   ]
  },
  {
   "cell_type": "code",
   "execution_count": 4,
   "metadata": {},
   "outputs": [
    {
     "name": "stdout",
     "output_type": "stream",
     "text": [
      "0.43478260869565216\n",
      "-1.5652173913043477\n",
      "6\n",
      "0\n",
      "-1.5652173913043477\n",
      "-1.5652173913043477\n"
     ]
    }
   ],
   "source": [
    "#Code here\n",
    "rumus = 10/23-6+4-(20//3%2)\n",
    "\n",
    "#langkah pertama adalah pembagian 10/23\n",
    "langkah1 = 10/23\n",
    "print(langkah1)\n",
    "\n",
    "#langkah kedua adalah hasil dari langkah pertama di kurangi 6 lalu di tambah 4\n",
    "langkah2 = langkah1-6+4\n",
    "print(langkah2)\n",
    "\n",
    "#langkah ketiga adalah operator pembagian bulat 22//3\n",
    "langkah3 = 20//3\n",
    "print(langkah3)\n",
    "\n",
    "#langkah keempat adalah hasil dari langkah ketiga di sisa bagi 2\n",
    "langkah4 = langkah3%2\n",
    "print(langkah4)\n",
    "\n",
    "#langkah terakhir tinggal menjumlah hasil langkah kedua di kurangi hasil langkah keempat\n",
    "langkah5 = langkah2 - langkah4\n",
    "print(langkah5)\n",
    "\n",
    "#pembuktian menggunakan rumus langsung\n",
    "print(rumus)"
   ]
  },
  {
   "cell_type": "markdown",
   "metadata": {},
   "source": [
    "<h3>Soal 5</h3>\n",
    "Jika terdapat string yaitu \"UFLOPYXTKJACSWRBGQZVDMEHIN\", maka susunlah nama kalian masing-masing dari data tersebut, berdasarkan index dari masing-masing huruf yang ada pada string tersebut!\n"
   ]
  },
  {
   "cell_type": "markdown",
   "metadata": {},
   "source": [
    "<h1>Analyze Here</h1>\n",
    "....."
   ]
  },
  {
   "cell_type": "code",
   "execution_count": 10,
   "metadata": {},
   "outputs": [
    {
     "name": "stdout",
     "output_type": "stream",
     "text": [
      "index nama : RENDIKA\n"
     ]
    }
   ],
   "source": [
    "#deklarasi variabel index\n",
    "index = \"UFLOPYXTKJACSWRBGQZVDMEHIN\"\n",
    "#deklarasi variabel nama dan menyusun index nya\n",
    "nama = index[14]+index[22]+index[25]+index[20]+index[24]+index[8]+index[10]\n",
    "#output\n",
    "print(\"index nama :\", nama)"
   ]
  },
  {
   "cell_type": "code",
   "execution_count": null,
   "metadata": {},
   "outputs": [],
   "source": []
  }
 ],
 "metadata": {
  "kernelspec": {
   "display_name": "Python 3 (ipykernel)",
   "language": "python",
   "name": "python3"
  },
  "language_info": {
   "codemirror_mode": {
    "name": "ipython",
    "version": 3
   },
   "file_extension": ".py",
   "mimetype": "text/x-python",
   "name": "python",
   "nbconvert_exporter": "python",
   "pygments_lexer": "ipython3",
   "version": "3.9.12"
  }
 },
 "nbformat": 4,
 "nbformat_minor": 4
}
